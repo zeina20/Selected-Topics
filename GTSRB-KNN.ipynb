{
 "cells": [
  {
   "cell_type": "code",
   "execution_count": 1,
   "id": "9e167713",
   "metadata": {},
   "outputs": [],
   "source": [
    "# Fundamental classes\n",
    "import numpy as np \n",
    "import pandas as pd \n",
    "import os\n",
    "\n",
    "# Image related\n",
    "import cv2\n",
    "from PIL import Image\n",
    "from skimage.transform import resize\n",
    "\n",
    "# For ploting\n",
    "import matplotlib.pyplot as plt\n",
    "\n",
    "# For the model and it's training\n",
    "from sklearn.model_selection import train_test_split\n",
    "from tensorflow.keras.utils import to_categorical\n",
    "from sklearn import svm\n",
    "from sklearn.metrics import classification_report,accuracy_score, confusion_matrix"
   ]
  },
  {
   "cell_type": "code",
   "execution_count": 2,
   "id": "bcb520b8",
   "metadata": {},
   "outputs": [
    {
     "name": "stdout",
     "output_type": "stream",
     "text": [
      "Error loading as image, filename: GT-00000.csv\n",
      "Error loading as image, filename: GT-00001.csv\n",
      "Error loading as image, filename: GT-00002.csv\n",
      "Error loading as image, filename: GT-00003.csv\n",
      "Error loading as image, filename: GT-00004.csv\n",
      "Error loading as image, filename: GT-00005.csv\n",
      "Error loading as image, filename: GT-00006.csv\n",
      "Error loading as image, filename: GT-00007.csv\n",
      "Error loading as image, filename: GT-00008.csv\n",
      "Error loading as image, filename: GT-00009.csv\n",
      "Error loading as image, filename: GT-00010.csv\n",
      "Error loading as image, filename: GT-00011.csv\n",
      "Error loading as image, filename: GT-00012.csv\n",
      "Error loading as image, filename: GT-00013.csv\n",
      "Error loading as image, filename: GT-00014.csv\n",
      "Error loading as image, filename: GT-00015.csv\n",
      "Error loading as image, filename: GT-00016.csv\n",
      "Error loading as image, filename: GT-00017.csv\n",
      "Error loading as image, filename: GT-00018.csv\n",
      "Error loading as image, filename: GT-00019.csv\n",
      "Error loading as image, filename: GT-00020.csv\n",
      "Error loading as image, filename: GT-00021.csv\n",
      "Error loading as image, filename: GT-00022.csv\n",
      "Error loading as image, filename: GT-00023.csv\n",
      "Error loading as image, filename: GT-00024.csv\n",
      "Error loading as image, filename: GT-00025.csv\n",
      "Error loading as image, filename: GT-00026.csv\n",
      "Error loading as image, filename: GT-00027.csv\n",
      "Error loading as image, filename: GT-00028.csv\n",
      "Error loading as image, filename: GT-00029.csv\n",
      "Error loading as image, filename: GT-00030.csv\n",
      "Error loading as image, filename: GT-00031.csv\n",
      "Error loading as image, filename: GT-00032.csv\n",
      "Error loading as image, filename: GT-00033.csv\n",
      "Error loading as image, filename: GT-00034.csv\n",
      "Error loading as image, filename: GT-00035.csv\n",
      "Error loading as image, filename: GT-00036.csv\n",
      "Error loading as image, filename: GT-00037.csv\n",
      "Error loading as image, filename: GT-00038.csv\n",
      "Error loading as image, filename: GT-00039.csv\n",
      "Error loading as image, filename: GT-00040.csv\n",
      "Error loading as image, filename: GT-00041.csv\n",
      "Error loading as image, filename: GT-00042.csv\n",
      "(39209, 30, 30, 3) (39209,)\n"
     ]
    }
   ],
   "source": [
    "# Setting variables for later use\n",
    "data = []\n",
    "labels = []\n",
    "classes = 43\n",
    "cur_path = os.getcwd()\n",
    "train_path = os.path.join(cur_path, \"Final_Training\\\\Images\\\\\")\n",
    "\n",
    "# Retrieving the images and their labels \n",
    "for i in range(classes):\n",
    "    path = os.path.join(\"Final_Training\\\\Images\\\\\",str(i).zfill(5))\n",
    "    images = os.listdir(path)\n",
    "\n",
    "    for a in images:\n",
    "        try:\n",
    "            image = Image.open(path + '/'+ a)\n",
    "            image = image.resize((30,30))\n",
    "            image = np.array(image)\n",
    "            #sim = Image.fromarray(image)\n",
    "            data.append(image)\n",
    "            labels.append(i)\n",
    "        except:\n",
    "            print(\"Error loading as image, filename:\", a)\n",
    "\n",
    "# Converting lists into numpy arrays\n",
    "data = np.array(data)\n",
    "labels = np.array(labels)\n",
    "# Checking data shape\n",
    "print(data.shape, labels.shape)"
   ]
  },
  {
   "cell_type": "code",
   "execution_count": 3,
   "id": "ed8a5171",
   "metadata": {},
   "outputs": [
    {
     "data": {
      "image/png": "[encoded data removed]",
      "text/plain": [
       "<Figure size 1080x432 with 1 Axes>"
      ]
     },
     "metadata": {
      "needs_background": "light"
     },
     "output_type": "display_data"
    }
   ],
   "source": [
    "# number of images in each class\n",
    "data_dic = {}\n",
    "for folder in os.listdir(train_path):\n",
    "    # Remve one since there is .csv file in each folder\n",
    "    data_dic[folder] = len(os.listdir(train_path + '/' + folder)) - 1\n",
    "\n",
    "data_df= pd.Series(data_dic)\n",
    "plt.figure(figsize = (15, 6))\n",
    "data_df.sort_values().plot(kind = 'bar')\n",
    "plt.xlabel('Classes')\n",
    "plt.ylabel('Number of images')\n",
    "\n",
    "# Classes percentages accross all the data\n",
    "data_dic.values()\n",
    "class_data_num = []\n",
    "for key in data_dic.keys():\n",
    "    class_data_num.append(data_dic[key])"
   ]
  },
  {
   "cell_type": "code",
   "execution_count": 4,
   "id": "0528b129",
   "metadata": {},
   "outputs": [
    {
     "name": "stdout",
     "output_type": "stream",
     "text": [
      "(87747, 30, 30, 3)\n"
     ]
    }
   ],
   "source": [
    "from math import floor\n",
    "from skimage import transform\n",
    "# Maximum number of inputs for the largest class\n",
    "max_num_data = round(max(data_df) * 0.9)\n",
    "# Counter to count \n",
    "c = 0\n",
    "data_new = []\n",
    "labels_new = []\n",
    "# Apply image augmentation to balance the data.\n",
    "for i in range(classes):\n",
    "    # Starting and Ending position of each class\n",
    "    start_itr = c\n",
    "    end_itr = c + class_data_num[i]\n",
    "    itr = start_itr\n",
    "    #print(\"Start at:\", start_itr, \"End at:\", end_itr, \"Difference:\", end_itr - start_itr, \"Real Count:\", class_data_num[i])\n",
    "    # Copying Data\n",
    "    while(itr < end_itr):\n",
    "        data_new.append(data[itr])\n",
    "        labels_new.append(labels[itr])\n",
    "        itr = itr + 1\n",
    "        c = c + 1\n",
    "\n",
    "    # If class is under sampled\n",
    "    if(class_data_num[i] < max_num_data):\n",
    "        gen_num = floor( ( (max_num_data/class_data_num[i]) - 1 ) * class_data_num[i])\n",
    "        # Iterator to iterate of class data images\n",
    "        itr = 0\n",
    "        # Swirl strength fator\n",
    "        sf = 0\n",
    "        #print(gen_num)\n",
    "        # Image augmentation Procss\n",
    "        while(gen_num > 0):\n",
    "            data_new.append(transform.swirl(data[start_itr + itr], strength=(0.1 + 0.1 * sf), cval = 255))\n",
    "            labels_new.append(labels[start_itr + itr])                         # start_itr+itr can be replaced with i\n",
    "            itr = itr + 1\n",
    "            sf = sf + 1\n",
    "            gen_num = gen_num - 1\n",
    "            if(sf > 9):\n",
    "                sf = 0\n",
    "            if(itr >= class_data_num[i]):\n",
    "                itr = 0\n",
    "\n",
    "# Converting lists into numpy arrays            \n",
    "data_new = np.array(data_new)\n",
    "labels_new = np.array(labels_new)\n",
    "# Checking data shape after balancing\n",
    "print(data_new.shape)"
   ]
  },
  {
   "cell_type": "code",
   "execution_count": 5,
   "id": "b3982223",
   "metadata": {},
   "outputs": [
    {
     "name": "stdout",
     "output_type": "stream",
     "text": [
      "Classes: [ 0  1  2  3  4  5  6  7  8  9 10 11 12 13 14 15 16 17 18 19 20 21 22 23\n",
      " 24 25 26 27 28 29 30 31 32 33 34 35 36 37 38 39 40 41 42] \n",
      "\n",
      "Count Per Class: [2025 2220 2250 2025 2024 2024 2025 2025 2025 2025 2024 2025 2100 2160\n",
      " 2025 2025 2025 2025 2025 2025 2025 2025 2025 2025 2025 2025 2025 2025\n",
      " 2025 2025 2025 2025 2025 2025 2025 2025 2025 2025 2070 2025 2025 2025\n",
      " 2025]\n"
     ]
    },
    {
     "data": {
      "text/plain": [
       "Text(0, 0.5, 'Number of images')"
      ]
     },
     "execution_count": 5,
     "metadata": {},
     "output_type": "execute_result"
    },
    {
     "data": {
      "image/png": "[encoded data removed]",
      "text/plain": [
       "<Figure size 1080x432 with 1 Axes>"
      ]
     },
     "metadata": {
      "needs_background": "light"
     },
     "output_type": "display_data"
    }
   ],
   "source": [
    "unique, counts = np.unique(labels_new, return_counts=True)\n",
    "print(\"Classes:\", unique, \"\\n\")\n",
    "print(\"Count Per Class:\", counts)\n",
    "# number of images in each class after image augmentation (Data balancing)\n",
    "data_dic = {}\n",
    "for i in range(classes):\n",
    "    # Remve one since there is .csv file in each folder\n",
    "    data_dic[i] = counts[i]\n",
    "\n",
    "data_df= pd.Series(data_dic)\n",
    "plt.figure(figsize = (15, 6))\n",
    "data_df.sort_values().plot(kind = 'bar')\n",
    "plt.xlabel('Classes')\n",
    "plt.ylabel('Number of images')"
   ]
  },
  {
   "cell_type": "code",
   "execution_count": 10,
   "id": "cab8c7c0",
   "metadata": {},
   "outputs": [
    {
     "name": "stderr",
     "output_type": "stream",
     "text": [
      "C:\\Users\\amals\\AppData\\Local\\Temp/ipykernel_7980/1705164705.py:6: DeprecationWarning: `np.float` is a deprecated alias for the builtin `float`. To silence this warning, use `float` by itself. Doing this will not modify any behavior and is safe. If you specifically wanted the numpy scalar type, use `np.float64` here.\n",
      "Deprecated in NumPy 1.20; for more details and guidance: https://numpy.org/devdocs/release/1.20.0-notes.html#deprecations\n",
      "  labels = np.array(labels_new).astype(np.float)\n"
     ]
    }
   ],
   "source": [
    "from sklearn import preprocessing\n",
    "# Resizing images to fit SVM and RF\n",
    "data = np.array(data_new)\n",
    "data.resize(87747,2700)\n",
    "data = preprocessing.scale(data)\n",
    "labels = np.array(labels_new).astype(np.float)\n",
    "\n",
    "from sklearn.preprocessing import LabelEncoder\n",
    "le = LabelEncoder()\n",
    "labels = le.fit_transform(labels)\n",
    "from sklearn.model_selection import train_test_split\n",
    "X_train, X_val, y_train, y_val = train_test_split(data, labels, test_size=0.25, random_state=42)"
   ]
  },
  {
   "cell_type": "code",
   "execution_count": 11,
   "id": "f677d061",
   "metadata": {},
   "outputs": [
    {
     "data": {
      "text/plain": [
       "KNeighborsClassifier()"
      ]
     },
     "execution_count": 11,
     "metadata": {},
     "output_type": "execute_result"
    }
   ],
   "source": [
    "from sklearn.neighbors import KNeighborsClassifier\n",
    "model = KNeighborsClassifier()\n",
    "model.fit(X_train, y_train)"
   ]
  },
  {
   "cell_type": "code",
   "execution_count": 12,
   "id": "3dfcba18",
   "metadata": {},
   "outputs": [],
   "source": [
    "y_pred = model.predict(X_val)"
   ]
  },
  {
   "cell_type": "code",
   "execution_count": 13,
   "id": "786b860a",
   "metadata": {},
   "outputs": [
    {
     "name": "stdout",
     "output_type": "stream",
     "text": [
      "              precision    recall  f1-score   support\n",
      "\n",
      "           0       0.95      0.98      0.97       505\n",
      "           1       0.83      0.91      0.87       542\n",
      "           2       0.81      0.83      0.82       539\n",
      "           3       0.77      0.74      0.76       507\n",
      "           4       0.81      0.86      0.84       497\n",
      "           5       0.70      0.86      0.77       519\n",
      "           6       0.95      0.99      0.97       486\n",
      "           7       0.77      0.86      0.81       529\n",
      "           8       0.83      0.89      0.86       454\n",
      "           9       0.92      0.83      0.87       509\n",
      "          10       0.90      0.88      0.89       522\n",
      "          11       0.92      0.76      0.83       494\n",
      "          12       0.97      0.87      0.92       535\n",
      "          13       0.94      0.95      0.94       505\n",
      "          14       0.98      0.88      0.93       510\n",
      "          15       0.97      0.88      0.92       563\n",
      "          16       0.94      0.99      0.97       539\n",
      "          17       0.99      0.91      0.95       540\n",
      "          18       0.87      0.84      0.85       521\n",
      "          19       0.94      0.99      0.96       502\n",
      "          20       0.93      0.94      0.93       508\n",
      "          21       0.95      0.98      0.96       506\n",
      "          22       0.93      0.99      0.96       501\n",
      "          23       0.96      0.93      0.95       490\n",
      "          24       0.96      0.95      0.96       492\n",
      "          25       0.89      0.79      0.84       508\n",
      "          26       0.94      0.93      0.93       551\n",
      "          27       0.95      0.98      0.97       516\n",
      "          28       0.95      0.92      0.93       521\n",
      "          29       0.96      0.95      0.96       484\n",
      "          30       0.92      0.95      0.94       491\n",
      "          31       0.81      0.92      0.86       498\n",
      "          32       0.95      0.99      0.97       554\n",
      "          33       0.99      0.89      0.94       529\n",
      "          34       0.95      0.97      0.96       499\n",
      "          35       0.95      0.84      0.89       509\n",
      "          36       0.97      0.96      0.97       450\n",
      "          37       0.96      0.98      0.97       453\n",
      "          38       0.90      0.89      0.90       525\n",
      "          39       1.00      1.00      1.00       516\n",
      "          40       0.92      0.96      0.94       492\n",
      "          41       0.99      0.98      0.98       520\n",
      "          42       0.99      0.98      0.99       506\n",
      "\n",
      "    accuracy                           0.92     21937\n",
      "   macro avg       0.92      0.92      0.92     21937\n",
      "weighted avg       0.92      0.92      0.92     21937\n",
      "\n"
     ]
    }
   ],
   "source": [
    "from sklearn.metrics import classification_report\n",
    "print(classification_report(y_val, y_pred))"
   ]
  },
  {
   "cell_type": "code",
   "execution_count": 14,
   "id": "55b828ab",
   "metadata": {},
   "outputs": [
    {
     "name": "stdout",
     "output_type": "stream",
     "text": [
      "Training Accuracy: 0.9154852532251447\n"
     ]
    }
   ],
   "source": [
    "from sklearn import metrics\n",
    "print(\"Training Accuracy:\", metrics.accuracy_score(y_pred, y_val))"
   ]
  },
  {
   "cell_type": "code",
   "execution_count": 17,
   "id": "9ab3db1e",
   "metadata": {},
   "outputs": [
    {
     "name": "stdout",
     "output_type": "stream",
     "text": [
      "Error loading as image, filename: GT-final_test.test.csv\n",
      "(12630, 2700) (12630,)\n"
     ]
    }
   ],
   "source": [
    "test = pd.read_csv('GT-final_test.csv')\n",
    "y_test = test[\"ClassId\"].values\n",
    "\n",
    "# Retrieving the images and their labels \n",
    "path = r\"Final_Test\\\\Images\\\\\"\n",
    "images = os.listdir(path)\n",
    "\n",
    "x_test = []\n",
    "\n",
    "for a in images:\n",
    "    try:\n",
    "        image = Image.open(path + '/'+ a)\n",
    "        image = image.resize((30,30))\n",
    "        image = np.array(image)\n",
    "        x_test.append(image)\n",
    "    except:\n",
    "        print(\"Error loading as image, filename:\", a)\n",
    "\n",
    "# Converting lists into numpy arrays\n",
    "x_test = np.array(x_test)\n",
    "y_test = np.array(y_test)\n",
    "x_test.resize(12630,2700)\n",
    "x_test = preprocessing.scale(x_test)\n",
    "# Checking data shape\n",
    "print(x_test.shape, y_test.shape)"
   ]
  },
  {
   "cell_type": "code",
   "execution_count": 18,
   "id": "ef4d4b52",
   "metadata": {},
   "outputs": [],
   "source": [
    "pred = model.predict(x_test)"
   ]
  },
  {
   "cell_type": "code",
   "execution_count": 19,
   "id": "828ef730",
   "metadata": {},
   "outputs": [
    {
     "name": "stdout",
     "output_type": "stream",
     "text": [
      "0.247347585114806\n"
     ]
    }
   ],
   "source": [
    "print(metrics.accuracy_score(pred, y_test)) "
   ]
  },
  {
   "cell_type": "code",
   "execution_count": 20,
   "id": "946805d0",
   "metadata": {},
   "outputs": [
    {
     "name": "stdout",
     "output_type": "stream",
     "text": [
      "              precision    recall  f1-score   support\n",
      "\n",
      "           0       0.06      0.03      0.04        60\n",
      "           1       0.40      0.25      0.30       720\n",
      "           2       0.25      0.14      0.18       750\n",
      "           3       0.09      0.11      0.10       450\n",
      "           4       0.15      0.15      0.15       660\n",
      "           5       0.18      0.25      0.21       630\n",
      "           6       0.09      0.04      0.06       150\n",
      "           7       0.11      0.17      0.13       450\n",
      "           8       0.13      0.14      0.13       450\n",
      "           9       0.34      0.25      0.29       480\n",
      "          10       0.20      0.16      0.18       660\n",
      "          11       0.33      0.21      0.26       420\n",
      "          12       0.85      0.34      0.48       690\n",
      "          13       0.90      0.65      0.75       720\n",
      "          14       0.72      0.09      0.15       270\n",
      "          15       0.26      0.18      0.21       210\n",
      "          16       0.14      0.21      0.16       150\n",
      "          17       0.82      0.65      0.72       360\n",
      "          18       0.17      0.13      0.14       390\n",
      "          19       0.02      0.50      0.03        60\n",
      "          20       0.15      0.27      0.19        90\n",
      "          21       0.14      0.16      0.15        90\n",
      "          22       0.33      0.18      0.24       120\n",
      "          23       0.05      0.05      0.05       150\n",
      "          24       0.22      0.06      0.09        90\n",
      "          25       0.36      0.33      0.34       480\n",
      "          26       0.11      0.12      0.11       180\n",
      "          27       0.00      0.00      0.00        60\n",
      "          28       0.18      0.05      0.07       150\n",
      "          29       0.00      0.00      0.00        90\n",
      "          30       0.00      0.00      0.00       150\n",
      "          31       0.10      0.12      0.11       270\n",
      "          32       0.10      0.52      0.17        60\n",
      "          33       0.52      0.57      0.54       210\n",
      "          34       0.30      0.11      0.16       120\n",
      "          35       0.53      0.23      0.32       390\n",
      "          36       0.45      0.32      0.37       120\n",
      "          37       0.00      0.00      0.00        60\n",
      "          38       0.52      0.50      0.51       690\n",
      "          39       0.53      0.33      0.41        90\n",
      "          40       0.10      0.08      0.09        90\n",
      "          41       0.03      0.10      0.05        60\n",
      "          42       0.00      0.00      0.00        90\n",
      "\n",
      "    accuracy                           0.25     12630\n",
      "   macro avg       0.25      0.20      0.20     12630\n",
      "weighted avg       0.34      0.25      0.27     12630\n",
      "\n"
     ]
    }
   ],
   "source": [
    "print(classification_report(y_test, pred))"
   ]
  }
 ],
 "metadata": {
  "kernelspec": {
   "display_name": "Python 3 (ipykernel)",
   "language": "python",
   "name": "python3"
  },
  "language_info": {
   "codemirror_mode": {
    "name": "ipython",
    "version": 3
   },
   "file_extension": ".py",
   "mimetype": "text/x-python",
   "name": "python",
   "nbconvert_exporter": "python",
   "pygments_lexer": "ipython3",
   "version": "3.9.7"
  }
 },
 "nbformat": 4,
 "nbformat_minor": 5
}
